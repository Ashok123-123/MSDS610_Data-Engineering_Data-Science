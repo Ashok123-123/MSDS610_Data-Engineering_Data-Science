{
 "cells": [
  {
   "cell_type": "code",
   "execution_count": 6,
   "id": "fa70c8d4-649c-4d09-83ce-979a9e52d6c4",
   "metadata": {},
   "outputs": [],
   "source": [
    "import joblib\n",
    "# Load the saved model & scaler\n",
    "model = joblib.load(\"C:/Users/gudip/student_grade_model.pkl\")\n",
    "scaler = joblib.load(\"C:/Users/gudip/scaler.pkl\")"
   ]
  },
  {
   "cell_type": "code",
   "execution_count": 9,
   "id": "adbde294-19c1-4957-b648-ba04379b7e6a",
   "metadata": {},
   "outputs": [],
   "source": [
    "import pandas as pd\n",
    "from sklearn.metrics import mean_squared_error, r2_score\n",
    "\n",
    "# importing the validation set\n",
    "X = pd.read_csv('C:/Users/gudip/X Validation.csv')\n",
    "y = pd.read_csv('C:/Users/gudip/Y Validation.csv')"
   ]
  },
  {
   "cell_type": "code",
   "execution_count": 11,
   "id": "920ef7de-7fcf-496c-9405-4585607c4364",
   "metadata": {},
   "outputs": [
    {
     "name": "stderr",
     "output_type": "stream",
     "text": [
      "C:\\Users\\gudip\\anaconda3\\Lib\\site-packages\\sklearn\\utils\\validation.py:2732: UserWarning: X has feature names, but RandomForestRegressor was fitted without feature names\n",
      "  warnings.warn(\n"
     ]
    }
   ],
   "source": [
    "# predicting the validation set\n",
    "y_pred = model.predict(X)"
   ]
  },
  {
   "cell_type": "code",
   "execution_count": 12,
   "id": "f8977405-5282-4ce8-9e91-b9cef086f8d8",
   "metadata": {},
   "outputs": [
    {
     "name": "stdout",
     "output_type": "stream",
     "text": [
      "Mean Squared Error: 644.2189490384616\n",
      "R-squared: -7.583575791112732\n"
     ]
    }
   ],
   "source": [
    "# calculating the metrics\n",
    "mse = mean_squared_error(y, y_pred)\n",
    "r2 = r2_score(y, y_pred)\n",
    "\n",
    "# printing the metrics\n",
    "print(f\"Mean Squared Error: {mse}\")\n",
    "print(f\"R-squared: {r2}\")"
   ]
  },
  {
   "cell_type": "markdown",
   "id": "bbeceb82-5bcb-4c5f-950a-9f5ae38de310",
   "metadata": {},
   "source": [
    "Model performance metrics show that the **Mean Squared Error (MSE)** is extremely large at **644.22**, meaning that model predictions are quite far from true values on average. This is a very large error, meaning that the model may not be suitable for validation data or perhaps there are strong outliers in data.\n",
    "\n",
    "The **R-squared statistic** is **-7.58**, which is negative, and indicates that the model does worse than a mean-based model would (which would have an R² of 0). This is a poor fit to the validation data, and the model is accounting for less variance than would a baseline model.\n",
    "\n",
    "In short, these numbers mean that the model's predictive accuracy is extremely low on the validation set. It fails to detect the underlying trends well, and some more **tuning** or **feature engineering** may be necessary.\n"
   ]
  },
  {
   "cell_type": "code",
   "execution_count": 13,
   "id": "0cc7f62b-7d5e-40f4-86b6-33e33b54d73e",
   "metadata": {},
   "outputs": [],
   "source": [
    "# Saving Data to Database\n",
    "from sqlalchemy import create_engine\n",
    "\n",
    "host = r'127.0.0.1' # denotes that the db in a local installation\n",
    "db = r'MSDS610' # db we just created\n",
    "user = r'postgres' # using the postgres user for this demo\n",
    "pw = r'Ashok%403999' # this is the password established during installation\n",
    "port = r'5432' # default port estabalished during install\n",
    "schema = r'analytics' # schema we just created\n",
    "\n",
    "\n",
    "# create a connection to the database\n",
    "engine = create_engine(f'postgresql://{user}:{pw}@{host}:{port}/{db}')\n",
    "db_conn = engine.connect()"
   ]
  },
  {
   "cell_type": "code",
   "execution_count": 14,
   "id": "994c6dc3-1ac9-4998-966f-400170a49105",
   "metadata": {},
   "outputs": [
    {
     "data": {
      "text/html": [
       "<div>\n",
       "<style scoped>\n",
       "    .dataframe tbody tr th:only-of-type {\n",
       "        vertical-align: middle;\n",
       "    }\n",
       "\n",
       "    .dataframe tbody tr th {\n",
       "        vertical-align: top;\n",
       "    }\n",
       "\n",
       "    .dataframe thead th {\n",
       "        text-align: right;\n",
       "    }\n",
       "</style>\n",
       "<table border=\"1\" class=\"dataframe\">\n",
       "  <thead>\n",
       "    <tr style=\"text-align: right;\">\n",
       "      <th></th>\n",
       "      <th>Socioeconomic Score</th>\n",
       "      <th>Study Hours</th>\n",
       "      <th>Sleep Hours</th>\n",
       "      <th>Attendance (%)</th>\n",
       "      <th>Study_Attendance_Interaction</th>\n",
       "      <th>Sleep_Category_2</th>\n",
       "      <th>Sleep_Category_3</th>\n",
       "    </tr>\n",
       "  </thead>\n",
       "  <tbody>\n",
       "    <tr>\n",
       "      <th>0</th>\n",
       "      <td>0.84372</td>\n",
       "      <td>4.1</td>\n",
       "      <td>8.7</td>\n",
       "      <td>58.0</td>\n",
       "      <td>237.8</td>\n",
       "      <td>False</td>\n",
       "      <td>True</td>\n",
       "    </tr>\n",
       "    <tr>\n",
       "      <th>1</th>\n",
       "      <td>0.49081</td>\n",
       "      <td>4.5</td>\n",
       "      <td>8.6</td>\n",
       "      <td>47.0</td>\n",
       "      <td>211.5</td>\n",
       "      <td>False</td>\n",
       "      <td>True</td>\n",
       "    </tr>\n",
       "    <tr>\n",
       "      <th>2</th>\n",
       "      <td>0.74071</td>\n",
       "      <td>6.9</td>\n",
       "      <td>6.5</td>\n",
       "      <td>69.0</td>\n",
       "      <td>476.1</td>\n",
       "      <td>True</td>\n",
       "      <td>False</td>\n",
       "    </tr>\n",
       "    <tr>\n",
       "      <th>3</th>\n",
       "      <td>0.33208</td>\n",
       "      <td>1.0</td>\n",
       "      <td>7.9</td>\n",
       "      <td>57.0</td>\n",
       "      <td>57.0</td>\n",
       "      <td>False</td>\n",
       "      <td>True</td>\n",
       "    </tr>\n",
       "    <tr>\n",
       "      <th>4</th>\n",
       "      <td>0.58595</td>\n",
       "      <td>9.3</td>\n",
       "      <td>6.8</td>\n",
       "      <td>59.0</td>\n",
       "      <td>548.7</td>\n",
       "      <td>True</td>\n",
       "      <td>False</td>\n",
       "    </tr>\n",
       "  </tbody>\n",
       "</table>\n",
       "</div>"
      ],
      "text/plain": [
       "   Socioeconomic Score  Study Hours  Sleep Hours  Attendance (%)  \\\n",
       "0              0.84372          4.1          8.7            58.0   \n",
       "1              0.49081          4.5          8.6            47.0   \n",
       "2              0.74071          6.9          6.5            69.0   \n",
       "3              0.33208          1.0          7.9            57.0   \n",
       "4              0.58595          9.3          6.8            59.0   \n",
       "\n",
       "   Study_Attendance_Interaction  Sleep_Category_2  Sleep_Category_3  \n",
       "0                         237.8             False              True  \n",
       "1                         211.5             False              True  \n",
       "2                         476.1              True             False  \n",
       "3                          57.0             False              True  \n",
       "4                         548.7              True             False  "
      ]
     },
     "execution_count": 14,
     "metadata": {},
     "output_type": "execute_result"
    }
   ],
   "source": [
    "X.to_sql('validation_predictions', engine, schema=schema, if_exists='replace', index=False)\n",
    "\n",
    "# Verify the data was saved correctly\n",
    "query = f\"SELECT * FROM {schema}.validation_predictions LIMIT 5\"\n",
    "pd.read_sql(query, db_conn)"
   ]
  },
  {
   "cell_type": "code",
   "execution_count": null,
   "id": "3d5a7066-ea8c-4ffb-85aa-0a81f6f48dcd",
   "metadata": {},
   "outputs": [],
   "source": []
  }
 ],
 "metadata": {
  "kernelspec": {
   "display_name": "Python 3 (ipykernel)",
   "language": "python",
   "name": "python3"
  },
  "language_info": {
   "codemirror_mode": {
    "name": "ipython",
    "version": 3
   },
   "file_extension": ".py",
   "mimetype": "text/x-python",
   "name": "python",
   "nbconvert_exporter": "python",
   "pygments_lexer": "ipython3",
   "version": "3.12.4"
  }
 },
 "nbformat": 4,
 "nbformat_minor": 5
}
