{
 "cells": [
  {
   "cell_type": "code",
   "execution_count": 13,
   "metadata": {
    "id": "-EUOHRJ8v5lW"
   },
   "outputs": [],
   "source": [
    "# Import necessary libraries\n",
    "import pandas as pd\n",
    "import numpy as np\n",
    "import matplotlib.pyplot as plt\n",
    "import seaborn as sns\n",
    "from sklearn.model_selection import train_test_split\n",
    "from sklearn.ensemble import RandomForestRegressor\n",
    "from sklearn.metrics import mean_squared_error, r2_score\n",
    "from sklearn.inspection import permutation_importance"
   ]
  },
  {
   "cell_type": "code",
   "execution_count": 1,
   "metadata": {},
   "outputs": [],
   "source": [
    "host = r'127.0.0.1' # denotes that the db in a local installation\n",
    "db = r'MSDS610' # db we just created\n",
    "user = r'postgres' # using the postgres user for this demo\n",
    "pw = r'Ashok%403999' # this is the password established during installation\n",
    "port = r'5432' # default port estabalished during install\n",
    "schema = r'raw' # schema we just created"
   ]
  },
  {
   "cell_type": "code",
   "execution_count": 2,
   "metadata": {},
   "outputs": [],
   "source": [
    "from sqlalchemy import create_engine\n",
    "\n",
    "# create a connection to the database\n",
    "engine = create_engine(f'postgresql://{user}:{pw}@{host}:{port}/{db}')\n",
    "db_conn = engine.connect()"
   ]
  },
  {
   "cell_type": "code",
   "execution_count": 4,
   "metadata": {},
   "outputs": [
    {
     "data": {
      "text/html": [
       "<div>\n",
       "<style scoped>\n",
       "    .dataframe tbody tr th:only-of-type {\n",
       "        vertical-align: middle;\n",
       "    }\n",
       "\n",
       "    .dataframe tbody tr th {\n",
       "        vertical-align: top;\n",
       "    }\n",
       "\n",
       "    .dataframe thead th {\n",
       "        text-align: right;\n",
       "    }\n",
       "</style>\n",
       "<table border=\"1\" class=\"dataframe\">\n",
       "  <thead>\n",
       "    <tr style=\"text-align: right;\">\n",
       "      <th></th>\n",
       "      <th>Socioeconomic Score</th>\n",
       "      <th>Study Hours</th>\n",
       "      <th>Sleep Hours</th>\n",
       "      <th>Attendance (%)</th>\n",
       "      <th>Grades</th>\n",
       "    </tr>\n",
       "  </thead>\n",
       "  <tbody>\n",
       "    <tr>\n",
       "      <th>0</th>\n",
       "      <td>0.95822</td>\n",
       "      <td>3.4</td>\n",
       "      <td>8.2</td>\n",
       "      <td>53.0</td>\n",
       "      <td>47.0</td>\n",
       "    </tr>\n",
       "    <tr>\n",
       "      <th>1</th>\n",
       "      <td>0.85566</td>\n",
       "      <td>3.2</td>\n",
       "      <td>5.9</td>\n",
       "      <td>55.0</td>\n",
       "      <td>35.0</td>\n",
       "    </tr>\n",
       "    <tr>\n",
       "      <th>2</th>\n",
       "      <td>0.68025</td>\n",
       "      <td>3.2</td>\n",
       "      <td>9.3</td>\n",
       "      <td>41.0</td>\n",
       "      <td>32.0</td>\n",
       "    </tr>\n",
       "    <tr>\n",
       "      <th>3</th>\n",
       "      <td>0.25936</td>\n",
       "      <td>3.2</td>\n",
       "      <td>8.2</td>\n",
       "      <td>47.0</td>\n",
       "      <td>34.0</td>\n",
       "    </tr>\n",
       "    <tr>\n",
       "      <th>4</th>\n",
       "      <td>0.60447</td>\n",
       "      <td>3.8</td>\n",
       "      <td>10.0</td>\n",
       "      <td>75.0</td>\n",
       "      <td>33.0</td>\n",
       "    </tr>\n",
       "  </tbody>\n",
       "</table>\n",
       "</div>"
      ],
      "text/plain": [
       "   Socioeconomic Score  Study Hours  Sleep Hours  Attendance (%)  Grades\n",
       "0              0.95822          3.4          8.2            53.0    47.0\n",
       "1              0.85566          3.2          5.9            55.0    35.0\n",
       "2              0.68025          3.2          9.3            41.0    32.0\n",
       "3              0.25936          3.2          8.2            47.0    34.0\n",
       "4              0.60447          3.8         10.0            75.0    33.0"
      ]
     },
     "execution_count": 4,
     "metadata": {},
     "output_type": "execute_result"
    }
   ],
   "source": [
    "import pandas as pd\n",
    "table_name = r'Student_Performance_Cleaned'\n",
    "schema = r'Cleaned' # schema were the data was loaded last week.\n",
    "Student_raw = pd.read_sql_table(table_name, db_conn, schema)\n",
    "Student_raw.head()"
   ]
  },
  {
   "cell_type": "code",
   "execution_count": 6,
   "metadata": {
    "colab": {
     "base_uri": "https://localhost:8080/"
    },
    "id": "4Ip9XzgPwrfE",
    "outputId": "f5d29597-52b7-4e5a-94b6-4331a4305705"
   },
   "outputs": [
    {
     "name": "stdout",
     "output_type": "stream",
     "text": [
      "<class 'pandas.core.frame.DataFrame'>\n",
      "RangeIndex: 1388 entries, 0 to 1387\n",
      "Data columns (total 5 columns):\n",
      " #   Column               Non-Null Count  Dtype  \n",
      "---  ------               --------------  -----  \n",
      " 0   Socioeconomic Score  1388 non-null   float64\n",
      " 1   Study Hours          1388 non-null   float64\n",
      " 2   Sleep Hours          1388 non-null   float64\n",
      " 3   Attendance (%)       1388 non-null   float64\n",
      " 4   Grades               1388 non-null   float64\n",
      "dtypes: float64(5)\n",
      "memory usage: 54.3 KB\n"
     ]
    }
   ],
   "source": [
    "# Overview of dataset structure\n",
    "Student_raw.info()"
   ]
  },
  {
   "cell_type": "markdown",
   "metadata": {},
   "source": [
    "# Analytical Question\n"
   ]
  },
  {
   "cell_type": "markdown",
   "metadata": {},
   "source": [
    "The objective was to analyze how different factors, including study habits, socioeconomic status, and sleep, influence student grades. We aimed to determine which features contribute most to predicting academic performance.\n"
   ]
  },
  {
   "cell_type": "code",
   "execution_count": 31,
   "metadata": {
    "id": "AvnBx0vTxLEA"
   },
   "outputs": [],
   "source": [
    "# Handle missing value\n",
    "Student_raw = Student_raw.dropna()  # Drop missing values"
   ]
  },
  {
   "cell_type": "code",
   "execution_count": 9,
   "metadata": {
    "id": "Yx6W_Tl9xcCc"
   },
   "outputs": [],
   "source": [
    "# Manual Feature Engineering: Creating a new feature (Example: Effective Study Time)\n",
    "Student_raw[\"Effective_Study\"] = Student_raw[\"Study Hours\"] * Student_raw[\"Attendance (%)\"] / 100"
   ]
  },
  {
   "cell_type": "code",
   "execution_count": 10,
   "metadata": {
    "colab": {
     "base_uri": "https://localhost:8080/"
    },
    "id": "kSyeZSXlyggF",
    "outputId": "a1dabbbe-d961-43b6-c528-f361f87aa117"
   },
   "outputs": [
    {
     "name": "stdout",
     "output_type": "stream",
     "text": [
      "<class 'pandas.core.frame.DataFrame'>\n",
      "RangeIndex: 1388 entries, 0 to 1387\n",
      "Data columns (total 6 columns):\n",
      " #   Column               Non-Null Count  Dtype  \n",
      "---  ------               --------------  -----  \n",
      " 0   Socioeconomic Score  1388 non-null   float64\n",
      " 1   Study Hours          1388 non-null   float64\n",
      " 2   Sleep Hours          1388 non-null   float64\n",
      " 3   Attendance (%)       1388 non-null   float64\n",
      " 4   Grades               1388 non-null   float64\n",
      " 5   Effective_Study      1388 non-null   float64\n",
      "dtypes: float64(6)\n",
      "memory usage: 65.2 KB\n"
     ]
    }
   ],
   "source": [
    "Student_raw.info()"
   ]
  },
  {
   "cell_type": "markdown",
   "metadata": {},
   "source": [
    "# Feature Engineering"
   ]
  },
  {
   "cell_type": "markdown",
   "metadata": {},
   "source": [
    " **Study-to-Sleep Ratio**"
   ]
  },
  {
   "cell_type": "code",
   "execution_count": 36,
   "metadata": {},
   "outputs": [],
   "source": [
    "Student_raw['Study_to_Sleep_Ratio'] = Student_raw['Study Hours'] / (Student_raw['Sleep Hours'] + 1) "
   ]
  },
  {
   "cell_type": "markdown",
   "metadata": {},
   "source": [
    "The way study hours and sleep interact may be important. If the student studies more but sleeps less, his or her performance will suffer from the shorter sleep. This variable captures that interaction."
   ]
  },
  {
   "cell_type": "markdown",
   "metadata": {},
   "source": [
    "**Attendance-to-Study Ratio**"
   ]
  },
  {
   "cell_type": "code",
   "execution_count": 37,
   "metadata": {},
   "outputs": [],
   "source": [
    "Student_raw['Attendance_to_Study_Ratio'] = Student_raw['Attendance (%)'] / (Student_raw['Study Hours'] + 1)"
   ]
  },
  {
   "cell_type": "markdown",
   "metadata": {},
   "source": [
    "This feature captures whether students who attend classes more frequently tend to study more, which could impact their grades."
   ]
  },
  {
   "cell_type": "markdown",
   "metadata": {},
   "source": [
    "**Average Study Hours Per Week**"
   ]
  },
  {
   "cell_type": "code",
   "execution_count": 38,
   "metadata": {},
   "outputs": [],
   "source": [
    "Student_raw['Avg_Study_Hours_Per_Week'] = Student_raw['Study Hours'] * 7"
   ]
  },
  {
   "cell_type": "markdown",
   "metadata": {},
   "source": [
    "This may give a clearer picture of how committed the students are to learning for a week. You can include this feature if you have a column for number of weeks or semester."
   ]
  },
  {
   "cell_type": "markdown",
   "metadata": {},
   "source": [
    "**Effective Study Time**"
   ]
  },
  {
   "cell_type": "markdown",
   "metadata": {},
   "source": [
    "Effective Study Time = Study Hours × (Attendance % / 100)\n",
    "This feature accounts for the actual study time adjusted by attendance, hypothesizing that higher attendance enhances the impact of study hours.\n"
   ]
  },
  {
   "cell_type": "code",
   "execution_count": 11,
   "metadata": {
    "id": "rU1Eckrqxg33"
   },
   "outputs": [],
   "source": [
    "# Splitting the dataset into training and testing sets\n",
    "X = Student_raw.drop(columns=[\"Grades\"])  # Features\n",
    "y = Student_raw[\"Grades\"]  # Target variable"
   ]
  },
  {
   "cell_type": "code",
   "execution_count": 14,
   "metadata": {
    "id": "ZuNAmKWYxohF"
   },
   "outputs": [],
   "source": [
    "X_train, X_test, y_train, y_test = train_test_split(X, y, test_size=0.2, random_state=42)"
   ]
  },
  {
   "cell_type": "code",
   "execution_count": 33,
   "metadata": {},
   "outputs": [
    {
     "name": "stdout",
     "output_type": "stream",
     "text": [
      "Cleaned X_train columns: Index(['SocioeconomicScore', 'StudyHours', 'SleepHours', 'Attendance',\n",
      "       'Effective_Study'],\n",
      "      dtype='object')\n",
      "Cleaned X_test columns: Index(['SocioeconomicScore', 'StudyHours', 'SleepHours', 'Attendance',\n",
      "       'Effective_Study'],\n",
      "      dtype='object')\n",
      "Missing values in X_train: SocioeconomicScore    0\n",
      "StudyHours            0\n",
      "SleepHours            0\n",
      "Attendance            0\n",
      "Effective_Study       0\n",
      "dtype: int64\n",
      "Missing values in X_test: SocioeconomicScore    0\n",
      "StudyHours            0\n",
      "SleepHours            0\n",
      "Attendance            0\n",
      "Effective_Study       0\n",
      "dtype: int64\n"
     ]
    }
   ],
   "source": [
    "# Clean column names: remove any leading/trailing spaces and unwanted characters\n",
    "X_train.columns = X_train.columns.str.strip().str.replace('[^a-zA-Z0-9_]', '', regex=True)\n",
    "X_test.columns = X_test.columns.str.strip().str.replace('[^a-zA-Z0-9_]', '', regex=True)\n",
    "\n",
    "# Ensure all column names are of string type again\n",
    "X_train.columns = X_train.columns.astype(str)\n",
    "X_test.columns = X_test.columns.astype(str)\n",
    "\n",
    "# Print cleaned column names to inspect\n",
    "print(\"Cleaned X_train columns:\", X_train.columns)\n",
    "print(\"Cleaned X_test columns:\", X_test.columns)\n",
    "\n",
    "# Ensure all columns contain numeric data\n",
    "X_train = X_train.apply(pd.to_numeric, errors='coerce')\n",
    "X_test = X_test.apply(pd.to_numeric, errors='coerce')\n",
    "\n",
    "# Check for any NaN values after conversion\n",
    "print(\"Missing values in X_train:\", X_train.isnull().sum())\n",
    "print(\"Missing values in X_test:\", X_test.isnull().sum())\n",
    "\n",
    "\n",
    "\n",
    "# Train the Random Forest model again\n",
    "rf = RandomForestRegressor(n_estimators=100, random_state=42)\n",
    "rf.fit(X_train, y_train)\n",
    "\n",
    "# Make predictions using the trained model\n",
    "y_pred = rf.predict(X_test)\n",
    "\n",
    "# Evaluate Model Performance\n",
    "mse = mean_squared_error(y_test, y_pred)\n",
    "r2 = r2_score(y_test, y_pred)\n",
    "\n"
   ]
  },
  {
   "cell_type": "code",
   "execution_count": 24,
   "metadata": {
    "colab": {
     "base_uri": "https://localhost:8080/"
    },
    "id": "JRSTydLOxufw",
    "outputId": "16476281-6e2e-46b2-aec3-94e28ae4d359"
   },
   "outputs": [
    {
     "name": "stdout",
     "output_type": "stream",
     "text": [
      "Mean Squared Error: 1.54\n",
      "R² Score: 0.98\n"
     ]
    }
   ],
   "source": [
    "# Evaluate Model Performance\n",
    "mse = mean_squared_error(y_test, y_pred)\n",
    "r2 = r2_score(y_test, y_pred)\n",
    "print(f\"Mean Squared Error: {mse:.2f}\")\n",
    "print(f\"R² Score: {r2:.2f}\")"
   ]
  },
  {
   "cell_type": "markdown",
   "metadata": {},
   "source": [
    "# Model Performance:\n",
    "•\tMean Squared Error (MSE): 1.54\n",
    "•\tR² Score: 0.98\n",
    "The high R² score indicates that our model explains 98% of the variance in grades, suggesting a strong predictive power.\n"
   ]
  },
  {
   "cell_type": "code",
   "execution_count": 26,
   "metadata": {
    "colab": {
     "base_uri": "https://localhost:8080/",
     "height": 586
    },
    "id": "WwLLhwMXx02i",
    "outputId": "14978083-9575-4bfe-c279-390dcef8f5a7"
   },
   "outputs": [
    {
     "data": {
      "image/png": "[encoded data removed]",
      "text/plain": [
       "<Figure size 640x480 with 1 Axes>"
      ]
     },
     "metadata": {},
     "output_type": "display_data"
    }
   ],
   "source": [
    "# Feature Importance - Method 1: Using Feature Importance from RandomForest\n",
    "feature_importances = pd.Series(rf.feature_importances_, index=X.columns)\n",
    "feature_importances.sort_values(ascending=False).plot(kind='bar', title=\"Feature Importance\")\n",
    "plt.show()"
   ]
  },
  {
   "cell_type": "code",
   "execution_count": 27,
   "metadata": {
    "colab": {
     "base_uri": "https://localhost:8080/",
     "height": 472
    },
    "id": "2XlwriuKx5GN",
    "outputId": "e17888a5-34c1-4543-811b-79d9971f9ec9"
   },
   "outputs": [
    {
     "data": {
      "image/png": "[encoded data removed]",
      "text/plain": [
       "<Figure size 640x480 with 1 Axes>"
      ]
     },
     "metadata": {},
     "output_type": "display_data"
    }
   ],
   "source": [
    "# Feature Importance - Method 2: Permutation Importance\n",
    "perm_importance = permutation_importance(rf, X_test, y_test, n_repeats=10, random_state=42)\n",
    "perm_importance_df = pd.DataFrame({'Feature': X.columns, 'Importance': perm_importance.importances_mean})\n",
    "perm_importance_df = perm_importance_df.sort_values(by=\"Importance\", ascending=False)\n",
    "sns.barplot(x=\"Importance\", y=\"Feature\", data=perm_importance_df)\n",
    "plt.title(\"Permutation Importance\")\n",
    "plt.show()"
   ]
  },
  {
   "cell_type": "markdown",
   "metadata": {},
   "source": [
    "# Analysis "
   ]
  },
  {
   "cell_type": "markdown",
   "metadata": {},
   "source": [
    " **Feature Importance Insights**\n",
    "\n",
    "1. **Random Forest Feature Importance:**\n",
    "   - Study Hours was the most influential predictor.\n",
    "   - Socioeconomic Score had moderate importance.\n",
    "   - Sleep Hours, Attendance, and Effective Study had minimal impact.\n",
    "\n",
    "2. **Permutation Importance:**\n",
    "   - Study Hours remained the dominant feature.\n",
    "   - Socioeconomic Score showed a moderate impact.\n",
    "   - Other features had negligible influence.\n",
    "\n",
    "**Concerns & Considerations:**\n",
    "\n",
    "- **Overfitting:**\n",
    "   - The very high R² score suggests possible overfitting. The model may be capturing noise rather than generalization patterns, especially if trained on a small dataset.\n",
    "   \n",
    "- **Feature Redundancy:**\n",
    "   - Effective Study Time did not provide significant additional value, likely because Study Hours already captures most of the variance.\n",
    "   - Attendance (%) had minimal importance, indicating it might not be a crucial predictor in this dataset.\n",
    "\n",
    "**Overall Insights:**\n",
    "   - Study Hours is the primary driver of grades, making it the most critical predictor.\n",
    "   - Socioeconomic factors play a secondary but notable role, suggesting external influences on student performance.\n",
    "   - Attendance and Sleep did not strongly impact grades, contrary to common assumptions.\n"
   ]
  },
  {
   "cell_type": "code",
   "execution_count": null,
   "metadata": {},
   "outputs": [],
   "source": []
  }
 ],
 "metadata": {
  "colab": {
   "provenance": []
  },
  "kernelspec": {
   "display_name": "Python 3 (ipykernel)",
   "language": "python",
   "name": "python3"
  },
  "language_info": {
   "codemirror_mode": {
    "name": "ipython",
    "version": 3
   },
   "file_extension": ".py",
   "mimetype": "text/x-python",
   "name": "python",
   "nbconvert_exporter": "python",
   "pygments_lexer": "ipython3",
   "version": "3.12.4"
  }
 },
 "nbformat": 4,
 "nbformat_minor": 4
}
